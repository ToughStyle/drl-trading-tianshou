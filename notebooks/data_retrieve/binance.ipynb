{
 "cells": [
  {
   "cell_type": "code",
   "execution_count": null,
   "metadata": {},
   "outputs": [],
   "source": [
    "import warnings\n",
    "warnings.filterwarnings(\"ignore\")\n",
    "\n",
    "import sys\n",
    "import pandas as pd\n",
    "sys.path.append(\"../..\")"
   ]
  },
  {
   "cell_type": "code",
   "execution_count": null,
   "metadata": {},
   "outputs": [],
   "source": [
    "from processor.binancedownloader import BinanceDownloader\n",
    "from config import (\n",
    "    CRYPTO_1b_TICKER,\n",
    "    CRYPTO_10b_TICKER,\n",
    "    TRAIN_START_DATE,\n",
    "    TEST_END_DATE\n",
    ")"
   ]
  },
  {
   "cell_type": "code",
   "execution_count": null,
   "metadata": {},
   "outputs": [],
   "source": [
    "import pandas as pd\n",
    "from binance import Client\n",
    "from datetime import datetime, timedelta\n",
    "from typing import List\n"
   ]
  },
  {
   "cell_type": "code",
   "execution_count": null,
   "metadata": {},
   "outputs": [],
   "source": [
    "df1d = BinanceDownloader().get_datas(start_date=TRAIN_START_DATE, end_date = TEST_END_DATE, tickers=CRYPTO_1b_TICKER, ts='1d')\n",
    "df1d = df1d.reset_index()\n",
    "df1d.to_csv(\"../../dataset/daily-level/crypto_t1_\" + TEST_END_DATE + \".csv\", index=False)"
   ]
  },
  {
   "cell_type": "code",
   "execution_count": null,
   "metadata": {},
   "outputs": [],
   "source": [
    "df10d = BinanceDownloader().get_datas(start_date=TRAIN_START_DATE, end_date = TEST_END_DATE, tickers=CRYPTO_10b_TICKER, ts='1d')\n",
    "df10d = df10d.reset_index()\n",
    "df10d.to_csv(\"../../dataset/daily-level/crypto_t10_\" + TEST_END_DATE + \".csv\", index=False)"
   ]
  },
  {
   "cell_type": "code",
   "execution_count": null,
   "metadata": {},
   "outputs": [],
   "source": [
    "df10h = BinanceDownloader().get_datas(start_date=TRAIN_START_DATE, end_date = TEST_END_DATE, tickers=CRYPTO_10b_TICKER, ts='1h')\n",
    "df10h = df10h.reset_index()\n",
    "df10h.to_csv(\"../../dataset/hour-level/crypto_t10_\" + TEST_END_DATE + \".csv\", index=False)"
   ]
  },
  {
   "cell_type": "code",
   "execution_count": null,
   "metadata": {},
   "outputs": [],
   "source": [
    "df1h = BinanceDownloader().get_datas(start_date=TRAIN_START_DATE, end_date=TEST_END_DATE, tickers=CRYPTO_1b_TICKER, ts='1h')\n",
    "df1h = df1h.reset_index()\n",
    "df1h.to_csv(\"../../dataset/hour-level/crypto_t1_\" + TEST_END_DATE + \".csv\", index=False)"
   ]
  },
  {
   "cell_type": "code",
   "execution_count": null,
   "metadata": {},
   "outputs": [],
   "source": [
    "df1m = BinanceDownloader().get_datas(start_date=TRAIN_START_DATE, end_date = TEST_END_DATE, tickers=CRYPTO_1b_TICKER, ts='5m')\n",
    "df1m = df1m.reset_index()\n",
    "df1m.to_csv(\"../../dataset/minute-level/crypto_t1_5m_\" + TEST_END_DATE + \".csv\", index=False)"
   ]
  },
  {
   "cell_type": "code",
   "execution_count": null,
   "metadata": {},
   "outputs": [],
   "source": [
    "df10m = BinanceDownloader().get_datas(start_date=TRAIN_START_DATE, end_date = TEST_END_DATE, tickers=CRYPTO_10b_TICKER, ts='5m')\n",
    "df10m = df10m.reset_index()\n",
    "df10m.to_csv(\"../../dataset/minute-level/crypto_t10_5m_\" + TEST_END_DATE + \".csv\", index=False)"
   ]
  }
 ],
 "metadata": {
  "kernelspec": {
   "display_name": "Python 3",
   "language": "python",
   "name": "python3"
  },
  "language_info": {
   "codemirror_mode": {
    "name": "ipython",
    "version": 3
   },
   "file_extension": ".py",
   "mimetype": "text/x-python",
   "name": "python",
   "nbconvert_exporter": "python",
   "pygments_lexer": "ipython3",
   "version": "3.10.6"
  },
  "orig_nbformat": 4,
  "vscode": {
   "interpreter": {
    "hash": "e7370f93d1d0cde622a1f8e1c04877d8463912d04d973331ad4851f04de6915a"
   }
  }
 },
 "nbformat": 4,
 "nbformat_minor": 2
}
