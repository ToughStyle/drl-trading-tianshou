{
 "cells": [
  {
   "attachments": {},
   "cell_type": "markdown",
   "metadata": {},
   "source": [
    "# feature engineering"
   ]
  },
  {
   "cell_type": "code",
   "execution_count": 1,
   "metadata": {},
   "outputs": [],
   "source": [
    "import warnings\n",
    "warnings.filterwarnings(\"ignore\")\n",
    "\n",
    "import pandas as pd\n",
    "import sys\n",
    "sys.path.append(\"../..\")\n",
    "%matplotlib inline"
   ]
  },
  {
   "cell_type": "code",
   "execution_count": 2,
   "metadata": {},
   "outputs": [],
   "source": [
    "from processor.preprocessors import FeatureEngineer\n",
    "from config import (\n",
    "    INDICATORS,\n",
    "    TRAIN_START_DATE,\n",
    "    TEST_END_DATE\n",
    ")"
   ]
  },
  {
   "cell_type": "code",
   "execution_count": 3,
   "metadata": {},
   "outputs": [],
   "source": [
    "df_dt1 = pd.read_csv(\"../../dataset/daily-level/crypto_t1_2023-04-01.csv\")\n",
    "df_dt10 = pd.read_csv(\"../../dataset/daily-level/crypto_t10_2023-04-01.csv\")\n",
    "df_ht1 = pd.read_csv(\"../../dataset/hour-level/crypto_t1_2023-04-01.csv\")\n",
    "df_ht10 = pd.read_csv(\"../../dataset/hour-level/crypto_t10_2023-04-01.csv\")"
   ]
  },
  {
   "attachments": {},
   "cell_type": "markdown",
   "metadata": {},
   "source": [
    "## some experiments"
   ]
  },
  {
   "cell_type": "code",
   "execution_count": 4,
   "metadata": {},
   "outputs": [],
   "source": [
    "# time = pd.DataFrame()\n",
    "# start = pd.to_datetime(TRAIN_START_DATE) + pd.Timedelta(\"1d\")\n",
    "# end = pd.to_datetime(TEST_END_DATE) + pd.Timedelta(\"1d\")\n",
    "# time[\"timestamp\"]=pd.DataFrame(pd.date_range(start=start, end=end,freq=\"1d\"))"
   ]
  },
  {
   "cell_type": "code",
   "execution_count": 5,
   "metadata": {},
   "outputs": [],
   "source": [
    "# df = df_dt10.copy()\n",
    "# df = df.sort_values([\"timestamp\", \"tic\"], ignore_index=True)\n",
    "# merged_closes = df.pivot_table(index=\"timestamp\", columns=\"tic\", values=\"close\")"
   ]
  },
  {
   "cell_type": "code",
   "execution_count": 6,
   "metadata": {},
   "outputs": [],
   "source": [
    "# merged_closes.index = pd.to_datetime(merged_closes.index)\n",
    "# df[\"timestamp\"] = pd.to_datetime(df[\"timestamp\"])"
   ]
  },
  {
   "cell_type": "code",
   "execution_count": 7,
   "metadata": {},
   "outputs": [],
   "source": [
    "# res = pd.merge(merged_closes, time, how='right', on=\"timestamp\")\n",
    "# # res.fillna(method=\"ffill\", axis=0,inplace=True)\n",
    "# # res.fillna(method=\"bfill\", axis=0,inplace=True)"
   ]
  },
  {
   "cell_type": "code",
   "execution_count": 8,
   "metadata": {},
   "outputs": [],
   "source": [
    "# s = res.melt(id_vars=\"timestamp\", var_name = \"tic\" ,value_name= \"close\", value_vars=df.tic.unique())\n",
    "# table = pd.merge(df, s, how='right', on=[\"timestamp\", \"tic\"])"
   ]
  },
  {
   "cell_type": "code",
   "execution_count": 9,
   "metadata": {},
   "outputs": [],
   "source": [
    "# table.fillna(method=\"ffill\", axis=0,inplace=True)\n",
    "# table.fillna(method=\"bfill\", axis=0,inplace=True)\n",
    "# table"
   ]
  },
  {
   "attachments": {},
   "cell_type": "markdown",
   "metadata": {},
   "source": [
    "## processing function"
   ]
  },
  {
   "cell_type": "code",
   "execution_count": 10,
   "metadata": {},
   "outputs": [],
   "source": [
    "# all = df_dt1.pivot_table(index=\"timestamp\", columns=\"tic\", values=\"close\")\n",
    "# all = all.div(all.iloc[0])\n",
    "# all = all.stack()\n",
    "# df_dt1[\"close_ratio\"] = all.values"
   ]
  },
  {
   "cell_type": "code",
   "execution_count": 11,
   "metadata": {},
   "outputs": [],
   "source": [
    "fe = FeatureEngineer(use_technical_indicator=False)\n"
   ]
  },
  {
   "cell_type": "code",
   "execution_count": 12,
   "metadata": {},
   "outputs": [],
   "source": [
    "processed_dt1_raw = fe.preprocess_data(df_dt1, [TRAIN_START_DATE, TEST_END_DATE, \"1d\"])\n",
    "processed_dt10_raw = fe.preprocess_data(df_dt10, [TRAIN_START_DATE, TEST_END_DATE, \"1d\"])\n",
    "processed_ht1_raw = fe.preprocess_data(df_ht1, [TRAIN_START_DATE, TEST_END_DATE, \"1h\"])\n",
    "processed_ht10_raw = fe.preprocess_data(df_ht10, [TRAIN_START_DATE, TEST_END_DATE, \"1h\"])"
   ]
  },
  {
   "cell_type": "code",
   "execution_count": 13,
   "metadata": {},
   "outputs": [
    {
     "data": {
      "text/html": [
       "<div>\n",
       "<style scoped>\n",
       "    .dataframe tbody tr th:only-of-type {\n",
       "        vertical-align: middle;\n",
       "    }\n",
       "\n",
       "    .dataframe tbody tr th {\n",
       "        vertical-align: top;\n",
       "    }\n",
       "\n",
       "    .dataframe thead th {\n",
       "        text-align: right;\n",
       "    }\n",
       "</style>\n",
       "<table border=\"1\" class=\"dataframe\">\n",
       "  <thead>\n",
       "    <tr style=\"text-align: right;\">\n",
       "      <th></th>\n",
       "      <th>timestamp</th>\n",
       "      <th>open</th>\n",
       "      <th>high</th>\n",
       "      <th>low</th>\n",
       "      <th>volume</th>\n",
       "      <th>tic</th>\n",
       "      <th>close</th>\n",
       "    </tr>\n",
       "  </thead>\n",
       "  <tbody>\n",
       "    <tr>\n",
       "      <th>0</th>\n",
       "      <td>2021-01-01 01:00:00</td>\n",
       "      <td>0.18134</td>\n",
       "      <td>0.18146</td>\n",
       "      <td>0.17831</td>\n",
       "      <td>19194919.1</td>\n",
       "      <td>ADAUSDT</td>\n",
       "      <td>0.18051</td>\n",
       "    </tr>\n",
       "    <tr>\n",
       "      <th>1</th>\n",
       "      <td>2021-01-01 02:00:00</td>\n",
       "      <td>0.18055</td>\n",
       "      <td>0.18469</td>\n",
       "      <td>0.18000</td>\n",
       "      <td>28601648.4</td>\n",
       "      <td>ADAUSDT</td>\n",
       "      <td>0.18358</td>\n",
       "    </tr>\n",
       "    <tr>\n",
       "      <th>2</th>\n",
       "      <td>2021-01-01 03:00:00</td>\n",
       "      <td>0.18361</td>\n",
       "      <td>0.18473</td>\n",
       "      <td>0.18229</td>\n",
       "      <td>20075571.1</td>\n",
       "      <td>ADAUSDT</td>\n",
       "      <td>0.18368</td>\n",
       "    </tr>\n",
       "    <tr>\n",
       "      <th>3</th>\n",
       "      <td>2021-01-01 04:00:00</td>\n",
       "      <td>0.18375</td>\n",
       "      <td>0.18458</td>\n",
       "      <td>0.18259</td>\n",
       "      <td>15704497.1</td>\n",
       "      <td>ADAUSDT</td>\n",
       "      <td>0.18292</td>\n",
       "    </tr>\n",
       "    <tr>\n",
       "      <th>4</th>\n",
       "      <td>2021-01-01 05:00:00</td>\n",
       "      <td>0.18299</td>\n",
       "      <td>0.18367</td>\n",
       "      <td>0.18105</td>\n",
       "      <td>16338316.2</td>\n",
       "      <td>ADAUSDT</td>\n",
       "      <td>0.18180</td>\n",
       "    </tr>\n",
       "    <tr>\n",
       "      <th>...</th>\n",
       "      <td>...</td>\n",
       "      <td>...</td>\n",
       "      <td>...</td>\n",
       "      <td>...</td>\n",
       "      <td>...</td>\n",
       "      <td>...</td>\n",
       "      <td>...</td>\n",
       "    </tr>\n",
       "    <tr>\n",
       "      <th>196805</th>\n",
       "      <td>2023-03-31 21:00:00</td>\n",
       "      <td>0.53550</td>\n",
       "      <td>0.56400</td>\n",
       "      <td>0.53280</td>\n",
       "      <td>39759420.0</td>\n",
       "      <td>XRPUSDT</td>\n",
       "      <td>0.54440</td>\n",
       "    </tr>\n",
       "    <tr>\n",
       "      <th>196806</th>\n",
       "      <td>2023-03-31 22:00:00</td>\n",
       "      <td>0.54450</td>\n",
       "      <td>0.54810</td>\n",
       "      <td>0.53730</td>\n",
       "      <td>22884334.0</td>\n",
       "      <td>XRPUSDT</td>\n",
       "      <td>0.54130</td>\n",
       "    </tr>\n",
       "    <tr>\n",
       "      <th>196807</th>\n",
       "      <td>2023-03-31 23:00:00</td>\n",
       "      <td>0.54130</td>\n",
       "      <td>0.54420</td>\n",
       "      <td>0.53820</td>\n",
       "      <td>17915903.0</td>\n",
       "      <td>XRPUSDT</td>\n",
       "      <td>0.53890</td>\n",
       "    </tr>\n",
       "    <tr>\n",
       "      <th>196808</th>\n",
       "      <td>2023-04-01 00:00:00</td>\n",
       "      <td>0.53890</td>\n",
       "      <td>0.54160</td>\n",
       "      <td>0.53570</td>\n",
       "      <td>14449313.0</td>\n",
       "      <td>XRPUSDT</td>\n",
       "      <td>0.53740</td>\n",
       "    </tr>\n",
       "    <tr>\n",
       "      <th>196809</th>\n",
       "      <td>2023-04-01 01:00:00</td>\n",
       "      <td>0.53750</td>\n",
       "      <td>0.53750</td>\n",
       "      <td>0.53150</td>\n",
       "      <td>23318577.0</td>\n",
       "      <td>XRPUSDT</td>\n",
       "      <td>0.53320</td>\n",
       "    </tr>\n",
       "  </tbody>\n",
       "</table>\n",
       "<p>196810 rows × 7 columns</p>\n",
       "</div>"
      ],
      "text/plain": [
       "                 timestamp     open     high      low      volume      tic  \\\n",
       "0      2021-01-01 01:00:00  0.18134  0.18146  0.17831  19194919.1  ADAUSDT   \n",
       "1      2021-01-01 02:00:00  0.18055  0.18469  0.18000  28601648.4  ADAUSDT   \n",
       "2      2021-01-01 03:00:00  0.18361  0.18473  0.18229  20075571.1  ADAUSDT   \n",
       "3      2021-01-01 04:00:00  0.18375  0.18458  0.18259  15704497.1  ADAUSDT   \n",
       "4      2021-01-01 05:00:00  0.18299  0.18367  0.18105  16338316.2  ADAUSDT   \n",
       "...                    ...      ...      ...      ...         ...      ...   \n",
       "196805 2023-03-31 21:00:00  0.53550  0.56400  0.53280  39759420.0  XRPUSDT   \n",
       "196806 2023-03-31 22:00:00  0.54450  0.54810  0.53730  22884334.0  XRPUSDT   \n",
       "196807 2023-03-31 23:00:00  0.54130  0.54420  0.53820  17915903.0  XRPUSDT   \n",
       "196808 2023-04-01 00:00:00  0.53890  0.54160  0.53570  14449313.0  XRPUSDT   \n",
       "196809 2023-04-01 01:00:00  0.53750  0.53750  0.53150  23318577.0  XRPUSDT   \n",
       "\n",
       "          close  \n",
       "0       0.18051  \n",
       "1       0.18358  \n",
       "2       0.18368  \n",
       "3       0.18292  \n",
       "4       0.18180  \n",
       "...         ...  \n",
       "196805  0.54440  \n",
       "196806  0.54130  \n",
       "196807  0.53890  \n",
       "196808  0.53740  \n",
       "196809  0.53320  \n",
       "\n",
       "[196810 rows x 7 columns]"
      ]
     },
     "execution_count": 13,
     "metadata": {},
     "output_type": "execute_result"
    }
   ],
   "source": [
    "processed_ht10_raw"
   ]
  },
  {
   "cell_type": "code",
   "execution_count": 14,
   "metadata": {},
   "outputs": [],
   "source": [
    "processed_dt1_raw.to_csv(\"../../dataset/daily-level/crypto_raw_t1_2023-04-01.csv\", index=False)\n",
    "processed_dt10_raw.to_csv(\"../../dataset/daily-level/crypto_raw_t10_2023-04-01.csv\", index=False)\n",
    "processed_ht1_raw.to_csv(\"../../dataset/hour-level/crypto_raw_t1_2023-04-01.csv\", index=False)\n",
    "processed_ht10_raw.to_csv(\"../../dataset/hour-level/crypto_raw_t10_2023-04-01.csv\", index=False)"
   ]
  },
  {
   "cell_type": "code",
   "execution_count": 15,
   "metadata": {},
   "outputs": [],
   "source": [
    "fe = FeatureEngineer(use_technical_indicator=True, tech_indicator_list = INDICATORS)"
   ]
  },
  {
   "cell_type": "code",
   "execution_count": 16,
   "metadata": {},
   "outputs": [
    {
     "name": "stdout",
     "output_type": "stream",
     "text": [
      "Successfully added technical indicators\n",
      "Successfully added technical indicators\n"
     ]
    }
   ],
   "source": [
    "processed_dt1_add_tech = fe.preprocess_data(df_dt1, [TRAIN_START_DATE, TEST_END_DATE, \"1d\"])\n",
    "processed_dt10_add_tech = fe.preprocess_data(df_dt10, [TRAIN_START_DATE, TEST_END_DATE, \"1d\"])\n",
    "processed_dt1_add_tech.to_csv(\"../../dataset/daily-level/crypto_TI_t1_2023-04-01.csv\", index=False)\n",
    "processed_dt10_add_tech.to_csv(\"../../dataset/daily-level/crypto_TI_t10_2023-04-01.csv\", index=False)"
   ]
  },
  {
   "cell_type": "code",
   "execution_count": 17,
   "metadata": {},
   "outputs": [
    {
     "name": "stdout",
     "output_type": "stream",
     "text": [
      "Successfully added technical indicators\n",
      "Successfully added technical indicators\n"
     ]
    }
   ],
   "source": [
    "processed_ht1_add_tech = fe.preprocess_data(df_ht1, [TRAIN_START_DATE, TEST_END_DATE, \"1h\"])\n",
    "processed_ht10_add_tech = fe.preprocess_data(df_ht10, [TRAIN_START_DATE, TEST_END_DATE, \"1h\"])\n",
    "processed_ht1_add_tech.to_csv(\"../../dataset/hour-level/crypto_TI_t1_2023-04-01.csv\", index=False)\n",
    "processed_ht10_add_tech.to_csv(\"../../dataset/hour-level/crypto_TI_t10_2023-04-01.csv\", index=False)"
   ]
  }
 ],
 "metadata": {
  "kernelspec": {
   "display_name": "torch_RL",
   "language": "python",
   "name": "python3"
  },
  "language_info": {
   "codemirror_mode": {
    "name": "ipython",
    "version": 3
   },
   "file_extension": ".py",
   "mimetype": "text/x-python",
   "name": "python",
   "nbconvert_exporter": "python",
   "pygments_lexer": "ipython3",
   "version": "3.10.6"
  },
  "orig_nbformat": 4,
  "vscode": {
   "interpreter": {
    "hash": "ea59a3180d7382e8654bfac75c404e2e01028a8b8a0c7675a4a4d2ca4aed5bab"
   }
  }
 },
 "nbformat": 4,
 "nbformat_minor": 2
}
