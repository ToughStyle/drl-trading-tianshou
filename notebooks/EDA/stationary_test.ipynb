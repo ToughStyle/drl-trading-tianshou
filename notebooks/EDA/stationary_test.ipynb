{
 "cells": [
  {
   "cell_type": "code",
   "execution_count": 2,
   "metadata": {},
   "outputs": [],
   "source": [
    "import pandas as pd\n",
    "import numpy as np\n",
    "import matplotlib.pyplot as plt\n",
    "import seaborn as sns\n",
    "import warnings\n",
    "from statsmodels.tsa.arima_model import ARIMA   #构建ARIMA模型时候会使用的包\n",
    "from sklearn.metrics import mean_absolute_percentage_error as mape #利用mape评估模型的时候会使用\n",
    "from statsmodels.tsa.seasonal import seasonal_decompose\n",
    "from statsmodels.tsa.stattools import adfuller #平稳性检验，单位根检验\n",
    "from statsmodels.graphics.tsaplots import plot_acf, plot_pacf  #求取自相关系数和偏自相关系数时使用"
   ]
  },
  {
   "cell_type": "code",
   "execution_count": 3,
   "metadata": {},
   "outputs": [],
   "source": [
    "df_mt10 = pd.read_csv(\"../../dataset/minute-level/crypto_raw_t10_5m_2023-03-01.csv\")"
   ]
  },
  {
   "cell_type": "code",
   "execution_count": 4,
   "metadata": {},
   "outputs": [
    {
     "data": {
      "text/html": [
       "<div>\n",
       "<style scoped>\n",
       "    .dataframe tbody tr th:only-of-type {\n",
       "        vertical-align: middle;\n",
       "    }\n",
       "\n",
       "    .dataframe tbody tr th {\n",
       "        vertical-align: top;\n",
       "    }\n",
       "\n",
       "    .dataframe thead th {\n",
       "        text-align: right;\n",
       "    }\n",
       "</style>\n",
       "<table border=\"1\" class=\"dataframe\">\n",
       "  <thead>\n",
       "    <tr style=\"text-align: right;\">\n",
       "      <th></th>\n",
       "      <th>timestamp</th>\n",
       "      <th>open</th>\n",
       "      <th>high</th>\n",
       "      <th>low</th>\n",
       "      <th>volume</th>\n",
       "      <th>tic</th>\n",
       "      <th>close</th>\n",
       "    </tr>\n",
       "  </thead>\n",
       "  <tbody>\n",
       "    <tr>\n",
       "      <th>0</th>\n",
       "      <td>2021-01-01 00:05:00</td>\n",
       "      <td>0.18134</td>\n",
       "      <td>0.18146</td>\n",
       "      <td>0.18039</td>\n",
       "      <td>1719341.2</td>\n",
       "      <td>ADAUSDT</td>\n",
       "      <td>0.18052</td>\n",
       "    </tr>\n",
       "    <tr>\n",
       "      <th>1</th>\n",
       "      <td>2021-01-01 00:10:00</td>\n",
       "      <td>0.18052</td>\n",
       "      <td>0.18059</td>\n",
       "      <td>0.17912</td>\n",
       "      <td>3551263.8</td>\n",
       "      <td>ADAUSDT</td>\n",
       "      <td>0.17926</td>\n",
       "    </tr>\n",
       "    <tr>\n",
       "      <th>2</th>\n",
       "      <td>2021-01-01 00:15:00</td>\n",
       "      <td>0.17926</td>\n",
       "      <td>0.17962</td>\n",
       "      <td>0.17831</td>\n",
       "      <td>3737301.1</td>\n",
       "      <td>ADAUSDT</td>\n",
       "      <td>0.17862</td>\n",
       "    </tr>\n",
       "    <tr>\n",
       "      <th>3</th>\n",
       "      <td>2021-01-01 00:20:00</td>\n",
       "      <td>0.17865</td>\n",
       "      <td>0.17977</td>\n",
       "      <td>0.17849</td>\n",
       "      <td>1539790.0</td>\n",
       "      <td>ADAUSDT</td>\n",
       "      <td>0.17972</td>\n",
       "    </tr>\n",
       "    <tr>\n",
       "      <th>4</th>\n",
       "      <td>2021-01-01 00:25:00</td>\n",
       "      <td>0.17968</td>\n",
       "      <td>0.17968</td>\n",
       "      <td>0.17893</td>\n",
       "      <td>945063.5</td>\n",
       "      <td>ADAUSDT</td>\n",
       "      <td>0.17942</td>\n",
       "    </tr>\n",
       "  </tbody>\n",
       "</table>\n",
       "</div>"
      ],
      "text/plain": [
       "             timestamp     open     high      low     volume      tic    close\n",
       "0  2021-01-01 00:05:00  0.18134  0.18146  0.18039  1719341.2  ADAUSDT  0.18052\n",
       "1  2021-01-01 00:10:00  0.18052  0.18059  0.17912  3551263.8  ADAUSDT  0.17926\n",
       "2  2021-01-01 00:15:00  0.17926  0.17962  0.17831  3737301.1  ADAUSDT  0.17862\n",
       "3  2021-01-01 00:20:00  0.17865  0.17977  0.17849  1539790.0  ADAUSDT  0.17972\n",
       "4  2021-01-01 00:25:00  0.17968  0.17968  0.17893   945063.5  ADAUSDT  0.17942"
      ]
     },
     "execution_count": 4,
     "metadata": {},
     "output_type": "execute_result"
    }
   ],
   "source": [
    "df_mt10.head()"
   ]
  },
  {
   "cell_type": "code",
   "execution_count": 6,
   "metadata": {},
   "outputs": [],
   "source": [
    "BTCUSDT = df_mt10[df_mt10[\"tic\"] == \"BTCUSDT\"]"
   ]
  },
  {
   "cell_type": "code",
   "execution_count": 8,
   "metadata": {},
   "outputs": [],
   "source": [
    "DOGEUSDT = df_mt10[df_mt10[\"tic\"] == \"DOGEUSDT\"]"
   ]
  },
  {
   "cell_type": "code",
   "execution_count": 7,
   "metadata": {},
   "outputs": [
    {
     "name": "stdout",
     "output_type": "stream",
     "text": [
      "------ 原数据平稳性检验 ————————————\n",
      "Test Statistic                     -1.396343\n",
      "p-value                             0.584028\n",
      "#Lags Used                         80.000000\n",
      "Number of Observations Used    227152.000000\n",
      "Critical Value (1%)                -3.430379\n",
      "Critical Value (5%)                -2.861553\n",
      "Critical Value (10%)               -2.566777\n",
      "dtype: float64\n",
      "------ 差分后平稳性检验 ————————————\n"
     ]
    },
    {
     "data": {
      "text/plain": [
       "Test Statistic                    -52.578016\n",
       "p-value                             0.000000\n",
       "#Lags Used                         83.000000\n",
       "Number of Observations Used    227148.000000\n",
       "Critical Value (1%)                -3.430379\n",
       "Critical Value (5%)                -2.861553\n",
       "Critical Value (10%)               -2.566777\n",
       "dtype: float64"
      ]
     },
     "execution_count": 7,
     "metadata": {},
     "output_type": "execute_result"
    }
   ],
   "source": [
    "def teststationarity(ts):\n",
    "    '''\n",
    "    原假设是不平稳\n",
    "    '''\n",
    "    from statsmodels.tsa.stattools import adfuller ###平稳性检验，单位根检验\n",
    "    dftest = adfuller(ts)\n",
    "    ##原假设是不平稳\n",
    "    # 对上述函数求得的值进行语义描述\n",
    "    dfoutput = pd.Series(dftest[0:4], index=['Test Statistic','p-value','#Lags Used','Number of Observations Used'])\n",
    "    for key,value in dftest[4].items():\n",
    "        dfoutput['Critical Value (%s)'%key] = value\n",
    "    return dfoutput\n",
    "\n",
    "\n",
    "print('------ 原数据平稳性检验 ————————————')\n",
    "print(teststationarity(BTCUSDT['close']))\n",
    "\n",
    "print('------ 差分后平稳性检验 ————————————')\n",
    "teststationarity(BTCUSDT['close'].diff(1).dropna())"
   ]
  },
  {
   "cell_type": "code",
   "execution_count": 9,
   "metadata": {},
   "outputs": [
    {
     "name": "stdout",
     "output_type": "stream",
     "text": [
      "------ 原数据平稳性检验 ————————————\n",
      "Test Statistic                     -2.482889\n",
      "p-value                             0.119693\n",
      "#Lags Used                         83.000000\n",
      "Number of Observations Used    227149.000000\n",
      "Critical Value (1%)                -3.430379\n",
      "Critical Value (5%)                -2.861553\n",
      "Critical Value (10%)               -2.566777\n",
      "dtype: float64\n",
      "------ 差分后平稳性检验 ————————————\n"
     ]
    },
    {
     "data": {
      "text/plain": [
       "Test Statistic                    -52.792861\n",
       "p-value                             0.000000\n",
       "#Lags Used                         82.000000\n",
       "Number of Observations Used    227149.000000\n",
       "Critical Value (1%)                -3.430379\n",
       "Critical Value (5%)                -2.861553\n",
       "Critical Value (10%)               -2.566777\n",
       "dtype: float64"
      ]
     },
     "execution_count": 9,
     "metadata": {},
     "output_type": "execute_result"
    }
   ],
   "source": [
    "def teststationarity(ts):\n",
    "    '''\n",
    "    原假设是不平稳\n",
    "    '''\n",
    "    from statsmodels.tsa.stattools import adfuller ###平稳性检验，单位根检验\n",
    "    dftest = adfuller(ts)\n",
    "    ##原假设是不平稳\n",
    "    # 对上述函数求得的值进行语义描述\n",
    "    dfoutput = pd.Series(dftest[0:4], index=['Test Statistic','p-value','#Lags Used','Number of Observations Used'])\n",
    "    for key,value in dftest[4].items():\n",
    "        dfoutput['Critical Value (%s)'%key] = value\n",
    "    return dfoutput\n",
    "\n",
    "\n",
    "print('------ 原数据平稳性检验 ————————————')\n",
    "print(teststationarity(DOGEUSDT['close']))\n",
    "\n",
    "print('------ 差分后平稳性检验 ————————————')\n",
    "teststationarity(DOGEUSDT['close'].diff(1).dropna())"
   ]
  },
  {
   "cell_type": "code",
   "execution_count": 11,
   "metadata": {},
   "outputs": [],
   "source": [
    "df_dt10 = pd.read_csv(\"../../dataset/daily-level/crypto_raw_t10_2023-03-01.csv\")"
   ]
  },
  {
   "cell_type": "code",
   "execution_count": 12,
   "metadata": {},
   "outputs": [],
   "source": [
    "BTCUSDT = df_dt10[df_dt10[\"tic\"] == \"BTCUSDT\"]"
   ]
  },
  {
   "cell_type": "code",
   "execution_count": 13,
   "metadata": {},
   "outputs": [],
   "source": [
    "DOGEUSDT = df_dt10[df_dt10[\"tic\"] == \"DOGEUSDT\"]"
   ]
  },
  {
   "cell_type": "code",
   "execution_count": 14,
   "metadata": {},
   "outputs": [
    {
     "name": "stdout",
     "output_type": "stream",
     "text": [
      "------ 原数据平稳性检验 ————————————\n",
      "Test Statistic                  -1.394155\n",
      "p-value                          0.585075\n",
      "#Lags Used                       0.000000\n",
      "Number of Observations Used    789.000000\n",
      "Critical Value (1%)             -3.438665\n",
      "Critical Value (5%)             -2.865210\n",
      "Critical Value (10%)            -2.568724\n",
      "dtype: float64\n",
      "------ 差分后平稳性检验 ————————————\n"
     ]
    },
    {
     "data": {
      "text/plain": [
       "Test Statistic                 -29.235370\n",
       "p-value                          0.000000\n",
       "#Lags Used                       0.000000\n",
       "Number of Observations Used    788.000000\n",
       "Critical Value (1%)             -3.438676\n",
       "Critical Value (5%)             -2.865215\n",
       "Critical Value (10%)            -2.568727\n",
       "dtype: float64"
      ]
     },
     "execution_count": 14,
     "metadata": {},
     "output_type": "execute_result"
    }
   ],
   "source": [
    "def teststationarity(ts):\n",
    "    '''\n",
    "    原假设是不平稳\n",
    "    '''\n",
    "    from statsmodels.tsa.stattools import adfuller ###平稳性检验，单位根检验\n",
    "    dftest = adfuller(ts)\n",
    "    ##原假设是不平稳\n",
    "    # 对上述函数求得的值进行语义描述\n",
    "    dfoutput = pd.Series(dftest[0:4], index=['Test Statistic','p-value','#Lags Used','Number of Observations Used'])\n",
    "    for key,value in dftest[4].items():\n",
    "        dfoutput['Critical Value (%s)'%key] = value\n",
    "    return dfoutput\n",
    "\n",
    "\n",
    "print('------ 原数据平稳性检验 ————————————')\n",
    "print(teststationarity(BTCUSDT['close']))\n",
    "\n",
    "print('------ 差分后平稳性检验 ————————————')\n",
    "teststationarity(BTCUSDT['close'].diff(1).dropna())"
   ]
  },
  {
   "cell_type": "code",
   "execution_count": 15,
   "metadata": {},
   "outputs": [
    {
     "name": "stdout",
     "output_type": "stream",
     "text": [
      "------ 原数据平稳性检验 ————————————\n",
      "Test Statistic                  -2.767790\n",
      "p-value                          0.063024\n",
      "#Lags Used                      19.000000\n",
      "Number of Observations Used    770.000000\n",
      "Critical Value (1%)             -3.438871\n",
      "Critical Value (5%)             -2.865301\n",
      "Critical Value (10%)            -2.568773\n",
      "dtype: float64\n",
      "------ 差分后平稳性检验 ————————————\n"
     ]
    },
    {
     "data": {
      "text/plain": [
       "Test Statistic                  -5.387325\n",
       "p-value                          0.000004\n",
       "#Lags Used                      18.000000\n",
       "Number of Observations Used    770.000000\n",
       "Critical Value (1%)             -3.438871\n",
       "Critical Value (5%)             -2.865301\n",
       "Critical Value (10%)            -2.568773\n",
       "dtype: float64"
      ]
     },
     "execution_count": 15,
     "metadata": {},
     "output_type": "execute_result"
    }
   ],
   "source": [
    "def teststationarity(ts):\n",
    "    '''\n",
    "    原假设是不平稳\n",
    "    '''\n",
    "    from statsmodels.tsa.stattools import adfuller ###平稳性检验，单位根检验\n",
    "    dftest = adfuller(ts)\n",
    "    ##原假设是不平稳\n",
    "    # 对上述函数求得的值进行语义描述\n",
    "    dfoutput = pd.Series(dftest[0:4], index=['Test Statistic','p-value','#Lags Used','Number of Observations Used'])\n",
    "    for key,value in dftest[4].items():\n",
    "        dfoutput['Critical Value (%s)'%key] = value\n",
    "    return dfoutput\n",
    "\n",
    "\n",
    "print('------ 原数据平稳性检验 ————————————')\n",
    "print(teststationarity(DOGEUSDT['close']))\n",
    "\n",
    "print('------ 差分后平稳性检验 ————————————')\n",
    "teststationarity(DOGEUSDT['close'].diff(1).dropna())"
   ]
  }
 ],
 "metadata": {
  "kernelspec": {
   "display_name": "torch_RL",
   "language": "python",
   "name": "python3"
  },
  "language_info": {
   "codemirror_mode": {
    "name": "ipython",
    "version": 3
   },
   "file_extension": ".py",
   "mimetype": "text/x-python",
   "name": "python",
   "nbconvert_exporter": "python",
   "pygments_lexer": "ipython3",
   "version": "3.10.6"
  },
  "orig_nbformat": 4
 },
 "nbformat": 4,
 "nbformat_minor": 2
}
